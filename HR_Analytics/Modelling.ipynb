{
 "cells": [
  {
   "cell_type": "code",
   "execution_count": 1,
   "metadata": {},
   "outputs": [],
   "source": [
    "import pandas as pd\n",
    "import numpy as np\n",
    "import matplotlib.pyplot as plt\n",
    "import seaborn as sns"
   ]
  },
  {
   "cell_type": "code",
   "execution_count": 2,
   "metadata": {},
   "outputs": [],
   "source": [
    "from sklearn.model_selection import StratifiedKFold\n",
    "from sklearn.model_selection import RandomizedSearchCV, GridSearchCV\n",
    "from sklearn.linear_model import LogisticRegression\n",
    "from sklearn.ensemble import RandomForestClassifier\n",
    "from sklearn.metrics import roc_auc_score, log_loss"
   ]
  },
  {
   "cell_type": "code",
   "execution_count": 3,
   "metadata": {},
   "outputs": [],
   "source": [
    "from collections import defaultdict"
   ]
  },
  {
   "cell_type": "code",
   "execution_count": 4,
   "metadata": {},
   "outputs": [],
   "source": [
    "import lightgbm as lgbm"
   ]
  },
  {
   "cell_type": "code",
   "execution_count": 5,
   "metadata": {},
   "outputs": [],
   "source": [
    "def get_summary_grid(grid):\n",
    "    parms = list(grid.param_grid.keys())\n",
    "    columns = ['Iter #']\n",
    "    scorings = grid.scoring\n",
    "    for scoring in scorings:\n",
    "        for typ in ['train', 'test']:\n",
    "            columns.append('{}_{}'.format(typ, scoring))\n",
    "    columns.extend(['fit_time', 'score_time'])\n",
    "    for param in grid.param_grid.keys():\n",
    "        columns.append(param)\n",
    "    df = pd.DataFrame(columns=columns)\n",
    "    cv_res = grid.cv_results_\n",
    "    for col in columns[1:-len(parms)]:\n",
    "        df[col] = cv_res['mean_' + col]\n",
    "    items = 1\n",
    "    for k, v in grid.param_grid.items():\n",
    "        items *= len(v)\n",
    "    df['Iter #'] = np.array(range(items)) + 1\n",
    "    res = defaultdict(list)\n",
    "    for each in grid.cv_results_['params']:\n",
    "        for p in parms:\n",
    "            res[p].append(each[p])\n",
    "    for k, v in res.items():\n",
    "        df[k] = v\n",
    "    return df"
   ]
  },
  {
   "cell_type": "code",
   "execution_count": 6,
   "metadata": {},
   "outputs": [],
   "source": [
    "def get_summary_randomized(grid):\n",
    "    parms = list(grid.param_distributions.keys())\n",
    "    columns = []\n",
    "    scorings = grid.scoring\n",
    "    for scoring in scorings:\n",
    "        for typ in ['train', 'test']:\n",
    "            columns.append('{}_{}'.format(typ, scoring))\n",
    "    columns.extend(['fit_time', 'score_time'])\n",
    "    for param in parms:\n",
    "        columns.append(param)\n",
    "    df = pd.DataFrame(columns=columns)\n",
    "    cv_res = grid.cv_results_\n",
    "    for col in columns[0:-len(parms)]:\n",
    "        df[col] = cv_res['mean_' + col]\n",
    "    items = 1\n",
    "#     for k, v in grid.param_distributions.items():\n",
    "#         items *= len(v)\n",
    "#     df['Iter #'] = np.array(range(items)) + 1\n",
    "    res = defaultdict(list)\n",
    "    for each in grid.cv_results_['params']:\n",
    "        for p in parms:\n",
    "            res[p].append(each[p])\n",
    "    for k, v in res.items():\n",
    "        df[k] = v\n",
    "    return df"
   ]
  },
  {
   "cell_type": "code",
   "execution_count": 7,
   "metadata": {},
   "outputs": [],
   "source": [
    "train = pd.read_csv('./data/train_cleaned.csv')"
   ]
  },
  {
   "cell_type": "code",
   "execution_count": 8,
   "metadata": {},
   "outputs": [
    {
     "data": {
      "text/html": [
       "<div>\n",
       "<style scoped>\n",
       "    .dataframe tbody tr th:only-of-type {\n",
       "        vertical-align: middle;\n",
       "    }\n",
       "\n",
       "    .dataframe tbody tr th {\n",
       "        vertical-align: top;\n",
       "    }\n",
       "\n",
       "    .dataframe thead th {\n",
       "        text-align: right;\n",
       "    }\n",
       "</style>\n",
       "<table border=\"1\" class=\"dataframe\">\n",
       "  <thead>\n",
       "    <tr style=\"text-align: right;\">\n",
       "      <th></th>\n",
       "      <th>department_Analytics</th>\n",
       "      <th>department_Finance</th>\n",
       "      <th>department_HR</th>\n",
       "      <th>department_Legal</th>\n",
       "      <th>department_Operations</th>\n",
       "      <th>department_Procurement</th>\n",
       "      <th>department_R&amp;D</th>\n",
       "      <th>department_Sales &amp; Marketing</th>\n",
       "      <th>department_Technology</th>\n",
       "      <th>region_region_1</th>\n",
       "      <th>...</th>\n",
       "      <th>length_of_service</th>\n",
       "      <th>KPIs_met &gt;80%</th>\n",
       "      <th>awards_won?</th>\n",
       "      <th>avg_training_score</th>\n",
       "      <th>work_fraction</th>\n",
       "      <th>start_year</th>\n",
       "      <th>dep_avg_training_score</th>\n",
       "      <th>reg_avg_training_score</th>\n",
       "      <th>edu_avg_training_score</th>\n",
       "      <th>gen_avg_training_score</th>\n",
       "    </tr>\n",
       "  </thead>\n",
       "  <tbody>\n",
       "    <tr>\n",
       "      <th>0</th>\n",
       "      <td>0</td>\n",
       "      <td>0</td>\n",
       "      <td>0</td>\n",
       "      <td>0</td>\n",
       "      <td>0</td>\n",
       "      <td>0</td>\n",
       "      <td>0</td>\n",
       "      <td>1</td>\n",
       "      <td>0</td>\n",
       "      <td>0</td>\n",
       "      <td>...</td>\n",
       "      <td>8</td>\n",
       "      <td>1</td>\n",
       "      <td>0</td>\n",
       "      <td>49</td>\n",
       "      <td>0.228571</td>\n",
       "      <td>27</td>\n",
       "      <td>50.261698</td>\n",
       "      <td>63.940946</td>\n",
       "      <td>64.061240</td>\n",
       "      <td>63.889897</td>\n",
       "    </tr>\n",
       "    <tr>\n",
       "      <th>1</th>\n",
       "      <td>0</td>\n",
       "      <td>0</td>\n",
       "      <td>0</td>\n",
       "      <td>0</td>\n",
       "      <td>1</td>\n",
       "      <td>0</td>\n",
       "      <td>0</td>\n",
       "      <td>0</td>\n",
       "      <td>0</td>\n",
       "      <td>0</td>\n",
       "      <td>...</td>\n",
       "      <td>4</td>\n",
       "      <td>0</td>\n",
       "      <td>0</td>\n",
       "      <td>60</td>\n",
       "      <td>0.133333</td>\n",
       "      <td>26</td>\n",
       "      <td>60.226648</td>\n",
       "      <td>65.699440</td>\n",
       "      <td>63.422046</td>\n",
       "      <td>63.173550</td>\n",
       "    </tr>\n",
       "    <tr>\n",
       "      <th>2</th>\n",
       "      <td>0</td>\n",
       "      <td>0</td>\n",
       "      <td>0</td>\n",
       "      <td>0</td>\n",
       "      <td>0</td>\n",
       "      <td>0</td>\n",
       "      <td>0</td>\n",
       "      <td>1</td>\n",
       "      <td>0</td>\n",
       "      <td>0</td>\n",
       "      <td>...</td>\n",
       "      <td>7</td>\n",
       "      <td>0</td>\n",
       "      <td>0</td>\n",
       "      <td>50</td>\n",
       "      <td>0.205882</td>\n",
       "      <td>27</td>\n",
       "      <td>50.261698</td>\n",
       "      <td>61.270023</td>\n",
       "      <td>63.422046</td>\n",
       "      <td>63.173550</td>\n",
       "    </tr>\n",
       "    <tr>\n",
       "      <th>3</th>\n",
       "      <td>0</td>\n",
       "      <td>0</td>\n",
       "      <td>0</td>\n",
       "      <td>0</td>\n",
       "      <td>0</td>\n",
       "      <td>0</td>\n",
       "      <td>0</td>\n",
       "      <td>1</td>\n",
       "      <td>0</td>\n",
       "      <td>0</td>\n",
       "      <td>...</td>\n",
       "      <td>10</td>\n",
       "      <td>0</td>\n",
       "      <td>0</td>\n",
       "      <td>50</td>\n",
       "      <td>0.256410</td>\n",
       "      <td>29</td>\n",
       "      <td>50.261698</td>\n",
       "      <td>64.330213</td>\n",
       "      <td>63.422046</td>\n",
       "      <td>63.173550</td>\n",
       "    </tr>\n",
       "    <tr>\n",
       "      <th>4</th>\n",
       "      <td>0</td>\n",
       "      <td>0</td>\n",
       "      <td>0</td>\n",
       "      <td>0</td>\n",
       "      <td>0</td>\n",
       "      <td>0</td>\n",
       "      <td>0</td>\n",
       "      <td>0</td>\n",
       "      <td>1</td>\n",
       "      <td>0</td>\n",
       "      <td>...</td>\n",
       "      <td>2</td>\n",
       "      <td>0</td>\n",
       "      <td>0</td>\n",
       "      <td>73</td>\n",
       "      <td>0.044444</td>\n",
       "      <td>43</td>\n",
       "      <td>79.928692</td>\n",
       "      <td>65.084071</td>\n",
       "      <td>63.422046</td>\n",
       "      <td>63.173550</td>\n",
       "    </tr>\n",
       "  </tbody>\n",
       "</table>\n",
       "<p>5 rows × 65 columns</p>\n",
       "</div>"
      ],
      "text/plain": [
       "   department_Analytics  department_Finance  department_HR  department_Legal  \\\n",
       "0                     0                   0              0                 0   \n",
       "1                     0                   0              0                 0   \n",
       "2                     0                   0              0                 0   \n",
       "3                     0                   0              0                 0   \n",
       "4                     0                   0              0                 0   \n",
       "\n",
       "   department_Operations  department_Procurement  department_R&D  \\\n",
       "0                      0                       0               0   \n",
       "1                      1                       0               0   \n",
       "2                      0                       0               0   \n",
       "3                      0                       0               0   \n",
       "4                      0                       0               0   \n",
       "\n",
       "   department_Sales & Marketing  department_Technology  region_region_1  ...  \\\n",
       "0                             1                      0                0  ...   \n",
       "1                             0                      0                0  ...   \n",
       "2                             1                      0                0  ...   \n",
       "3                             1                      0                0  ...   \n",
       "4                             0                      1                0  ...   \n",
       "\n",
       "   length_of_service  KPIs_met >80%  awards_won?  avg_training_score  \\\n",
       "0                  8              1            0                  49   \n",
       "1                  4              0            0                  60   \n",
       "2                  7              0            0                  50   \n",
       "3                 10              0            0                  50   \n",
       "4                  2              0            0                  73   \n",
       "\n",
       "   work_fraction  start_year  dep_avg_training_score  reg_avg_training_score  \\\n",
       "0       0.228571          27               50.261698               63.940946   \n",
       "1       0.133333          26               60.226648               65.699440   \n",
       "2       0.205882          27               50.261698               61.270023   \n",
       "3       0.256410          29               50.261698               64.330213   \n",
       "4       0.044444          43               79.928692               65.084071   \n",
       "\n",
       "   edu_avg_training_score  gen_avg_training_score  \n",
       "0               64.061240               63.889897  \n",
       "1               63.422046               63.173550  \n",
       "2               63.422046               63.173550  \n",
       "3               63.422046               63.173550  \n",
       "4               63.422046               63.173550  \n",
       "\n",
       "[5 rows x 65 columns]"
      ]
     },
     "execution_count": 8,
     "metadata": {},
     "output_type": "execute_result"
    }
   ],
   "source": [
    "train.head()"
   ]
  },
  {
   "cell_type": "code",
   "execution_count": 9,
   "metadata": {},
   "outputs": [],
   "source": [
    "y = np.load('./data/y.npy')"
   ]
  },
  {
   "cell_type": "code",
   "execution_count": 10,
   "metadata": {},
   "outputs": [],
   "source": [
    "test = pd.read_csv('./data/test_cleaned.csv')"
   ]
  },
  {
   "cell_type": "code",
   "execution_count": 11,
   "metadata": {},
   "outputs": [],
   "source": [
    "eid = pd.read_csv('./data/test.csv')['employee_id']"
   ]
  },
  {
   "cell_type": "markdown",
   "metadata": {},
   "source": [
    "## GridSearch"
   ]
  },
  {
   "cell_type": "code",
   "execution_count": 6,
   "metadata": {},
   "outputs": [],
   "source": [
    "params = {\n",
    "    'max_depth': [2, 4, 6, 8, 10], \n",
    "    'subsample': [0.25, 0.5, 0.75, 1.0], # Row sampling like Random Forest \n",
    "    'colsample_bytree': [0.3, 0.5, 0.7, 1.0],  # Column sampling like Random Forest\n",
    "    'num_leaves': [2**2, 2**4, 2**6, 2**8]\n",
    "}"
   ]
  },
  {
   "cell_type": "code",
   "execution_count": 11,
   "metadata": {},
   "outputs": [],
   "source": [
    "estimator = lgbm.LGBMClassifier(random_state=42, \n",
    "                                silent=False, \n",
    "                                n_jobs=1, \n",
    "                                class_weight='balanced',\n",
    "                                objective='binary')"
   ]
  },
  {
   "cell_type": "code",
   "execution_count": 12,
   "metadata": {},
   "outputs": [],
   "source": [
    "grid = RandomizedSearchCV(estimator=estimator,\n",
    "                    param_distributions=params,\n",
    "                    scoring={'accuracy', 'neg_log_loss', 'f1', 'recall', 'roc_auc'},\n",
    "                    refit='f1', # Because we are using multiple evaluation metrics\n",
    "                    cv=StratifiedKFold(5),\n",
    "                    return_train_score=True,\n",
    "                    verbose=2,\n",
    "                    n_jobs=-1)"
   ]
  },
  {
   "cell_type": "code",
   "execution_count": 13,
   "metadata": {},
   "outputs": [
    {
     "name": "stdout",
     "output_type": "stream",
     "text": [
      "Fitting 5 folds for each of 10 candidates, totalling 50 fits\n"
     ]
    },
    {
     "name": "stderr",
     "output_type": "stream",
     "text": [
      "[Parallel(n_jobs=-1)]: Using backend LokyBackend with 16 concurrent workers.\n",
      "[Parallel(n_jobs=-1)]: Done   9 tasks      | elapsed:   10.0s\n",
      "[Parallel(n_jobs=-1)]: Done  45 out of  50 | elapsed:  1.5min remaining:   10.0s\n",
      "[Parallel(n_jobs=-1)]: Done  50 out of  50 | elapsed:  1.5min finished\n"
     ]
    },
    {
     "data": {
      "text/plain": [
       "RandomizedSearchCV(cv=StratifiedKFold(n_splits=5, random_state=None, shuffle=False),\n",
       "          error_score='raise-deprecating',\n",
       "          estimator=LGBMClassifier(boosting_type='gbdt', class_weight='balanced',\n",
       "        colsample_bytree=1.0, importance_type='split', learning_rate=0.1,\n",
       "        max_depth=-1, min_child_samples=20, min_child_weight=0.001,\n",
       "        min_split_gain=0.0, n_estimators=100, n_jobs=1, num_leaves=31,\n",
       "        objective='binary', random_state=42, reg_alpha=0.0, reg_lambda=0.0,\n",
       "        silent=False, subsample=1.0, subsample_for_bin=200000,\n",
       "        subsample_freq=0),\n",
       "          fit_params=None, iid='warn', n_iter=10, n_jobs=-1,\n",
       "          param_distributions={'subsample': [0.25, 0.5, 0.75, 1.0], 'colsample_bytree': [0.3, 0.5, 0.7, 1.0], 'max_depth': [2, 4, 6, 8, 10], 'num_leaves': [4, 16, 64, 256]},\n",
       "          pre_dispatch='2*n_jobs', random_state=None, refit='f1',\n",
       "          return_train_score=True,\n",
       "          scoring={'recall', 'accuracy', 'f1', 'neg_log_loss', 'roc_auc'},\n",
       "          verbose=2)"
      ]
     },
     "execution_count": 13,
     "metadata": {},
     "output_type": "execute_result"
    }
   ],
   "source": [
    "grid.fit(train, y)"
   ]
  },
  {
   "cell_type": "code",
   "execution_count": 19,
   "metadata": {},
   "outputs": [],
   "source": [
    "grid_res = get_summary_randomized(grid)"
   ]
  },
  {
   "cell_type": "code",
   "execution_count": 20,
   "metadata": {},
   "outputs": [
    {
     "data": {
      "text/html": [
       "<div>\n",
       "<style scoped>\n",
       "    .dataframe tbody tr th:only-of-type {\n",
       "        vertical-align: middle;\n",
       "    }\n",
       "\n",
       "    .dataframe tbody tr th {\n",
       "        vertical-align: top;\n",
       "    }\n",
       "\n",
       "    .dataframe thead th {\n",
       "        text-align: right;\n",
       "    }\n",
       "</style>\n",
       "<table border=\"1\" class=\"dataframe\">\n",
       "  <thead>\n",
       "    <tr style=\"text-align: right;\">\n",
       "      <th></th>\n",
       "      <th>train_recall</th>\n",
       "      <th>test_recall</th>\n",
       "      <th>train_accuracy</th>\n",
       "      <th>test_accuracy</th>\n",
       "      <th>train_f1</th>\n",
       "      <th>test_f1</th>\n",
       "      <th>train_neg_log_loss</th>\n",
       "      <th>test_neg_log_loss</th>\n",
       "      <th>train_roc_auc</th>\n",
       "      <th>test_roc_auc</th>\n",
       "      <th>fit_time</th>\n",
       "      <th>score_time</th>\n",
       "      <th>subsample</th>\n",
       "      <th>colsample_bytree</th>\n",
       "      <th>max_depth</th>\n",
       "      <th>num_leaves</th>\n",
       "    </tr>\n",
       "  </thead>\n",
       "  <tbody>\n",
       "    <tr>\n",
       "      <th>7</th>\n",
       "      <td>0.978685</td>\n",
       "      <td>0.817271</td>\n",
       "      <td>0.830513</td>\n",
       "      <td>0.801635</td>\n",
       "      <td>0.495919</td>\n",
       "      <td>0.412403</td>\n",
       "      <td>-0.274431</td>\n",
       "      <td>-0.308938</td>\n",
       "      <td>0.967990</td>\n",
       "      <td>0.908288</td>\n",
       "      <td>14.594561</td>\n",
       "      <td>0.640953</td>\n",
       "      <td>0.50</td>\n",
       "      <td>0.7</td>\n",
       "      <td>10</td>\n",
       "      <td>64</td>\n",
       "    </tr>\n",
       "    <tr>\n",
       "      <th>0</th>\n",
       "      <td>0.970758</td>\n",
       "      <td>0.824982</td>\n",
       "      <td>0.823429</td>\n",
       "      <td>0.796490</td>\n",
       "      <td>0.483630</td>\n",
       "      <td>0.408513</td>\n",
       "      <td>-0.289042</td>\n",
       "      <td>-0.319805</td>\n",
       "      <td>0.963563</td>\n",
       "      <td>0.908278</td>\n",
       "      <td>14.360805</td>\n",
       "      <td>0.617024</td>\n",
       "      <td>1.00</td>\n",
       "      <td>0.5</td>\n",
       "      <td>8</td>\n",
       "      <td>256</td>\n",
       "    </tr>\n",
       "    <tr>\n",
       "      <th>3</th>\n",
       "      <td>0.960315</td>\n",
       "      <td>0.878110</td>\n",
       "      <td>0.782240</td>\n",
       "      <td>0.766512</td>\n",
       "      <td>0.428974</td>\n",
       "      <td>0.390488</td>\n",
       "      <td>-0.320756</td>\n",
       "      <td>-0.339335</td>\n",
       "      <td>0.944955</td>\n",
       "      <td>0.908304</td>\n",
       "      <td>57.650980</td>\n",
       "      <td>0.508825</td>\n",
       "      <td>1.00</td>\n",
       "      <td>1.0</td>\n",
       "      <td>6</td>\n",
       "      <td>256</td>\n",
       "    </tr>\n",
       "    <tr>\n",
       "      <th>8</th>\n",
       "      <td>0.960315</td>\n",
       "      <td>0.878110</td>\n",
       "      <td>0.782240</td>\n",
       "      <td>0.766512</td>\n",
       "      <td>0.428974</td>\n",
       "      <td>0.390488</td>\n",
       "      <td>-0.320756</td>\n",
       "      <td>-0.339335</td>\n",
       "      <td>0.944955</td>\n",
       "      <td>0.908304</td>\n",
       "      <td>12.799671</td>\n",
       "      <td>0.475912</td>\n",
       "      <td>0.75</td>\n",
       "      <td>1.0</td>\n",
       "      <td>6</td>\n",
       "      <td>256</td>\n",
       "    </tr>\n",
       "    <tr>\n",
       "      <th>5</th>\n",
       "      <td>0.954424</td>\n",
       "      <td>0.917526</td>\n",
       "      <td>0.753740</td>\n",
       "      <td>0.746935</td>\n",
       "      <td>0.397672</td>\n",
       "      <td>0.381836</td>\n",
       "      <td>-0.349659</td>\n",
       "      <td>-0.357434</td>\n",
       "      <td>0.930814</td>\n",
       "      <td>0.912660</td>\n",
       "      <td>22.281309</td>\n",
       "      <td>0.456421</td>\n",
       "      <td>0.25</td>\n",
       "      <td>0.5</td>\n",
       "      <td>10</td>\n",
       "      <td>16</td>\n",
       "    </tr>\n",
       "  </tbody>\n",
       "</table>\n",
       "</div>"
      ],
      "text/plain": [
       "   train_recall  test_recall  train_accuracy  test_accuracy  train_f1  \\\n",
       "7      0.978685     0.817271        0.830513       0.801635  0.495919   \n",
       "0      0.970758     0.824982        0.823429       0.796490  0.483630   \n",
       "3      0.960315     0.878110        0.782240       0.766512  0.428974   \n",
       "8      0.960315     0.878110        0.782240       0.766512  0.428974   \n",
       "5      0.954424     0.917526        0.753740       0.746935  0.397672   \n",
       "\n",
       "    test_f1  train_neg_log_loss  test_neg_log_loss  train_roc_auc  \\\n",
       "7  0.412403           -0.274431          -0.308938       0.967990   \n",
       "0  0.408513           -0.289042          -0.319805       0.963563   \n",
       "3  0.390488           -0.320756          -0.339335       0.944955   \n",
       "8  0.390488           -0.320756          -0.339335       0.944955   \n",
       "5  0.381836           -0.349659          -0.357434       0.930814   \n",
       "\n",
       "   test_roc_auc   fit_time  score_time  subsample  colsample_bytree  \\\n",
       "7      0.908288  14.594561    0.640953       0.50               0.7   \n",
       "0      0.908278  14.360805    0.617024       1.00               0.5   \n",
       "3      0.908304  57.650980    0.508825       1.00               1.0   \n",
       "8      0.908304  12.799671    0.475912       0.75               1.0   \n",
       "5      0.912660  22.281309    0.456421       0.25               0.5   \n",
       "\n",
       "   max_depth  num_leaves  \n",
       "7         10          64  \n",
       "0          8         256  \n",
       "3          6         256  \n",
       "8          6         256  \n",
       "5         10          16  "
      ]
     },
     "execution_count": 20,
     "metadata": {},
     "output_type": "execute_result"
    }
   ],
   "source": [
    "grid_res.sort_values('test_f1', ascending=False).head()"
   ]
  },
  {
   "cell_type": "code",
   "execution_count": 24,
   "metadata": {},
   "outputs": [],
   "source": [
    "params = {\n",
    "    'n_estimators': [100, 200, 300, 500, 700, 1000],\n",
    "    'learning_rate': [0.001, 0.01, 0.1]\n",
    "}"
   ]
  },
  {
   "cell_type": "code",
   "execution_count": 25,
   "metadata": {},
   "outputs": [],
   "source": [
    "estimator = grid.best_estimator_"
   ]
  },
  {
   "cell_type": "code",
   "execution_count": 26,
   "metadata": {},
   "outputs": [],
   "source": [
    "grid2 = GridSearchCV(estimator=estimator,\n",
    "                    param_grid=params,\n",
    "                    scoring={'accuracy', 'neg_log_loss', 'f1', 'recall', 'roc_auc'},\n",
    "                    refit='f1', # Because we are using multiple evaluation metrics\n",
    "                    cv=StratifiedKFold(5),\n",
    "                    return_train_score=True,\n",
    "                    verbose=2,\n",
    "                    n_jobs=-1)"
   ]
  },
  {
   "cell_type": "code",
   "execution_count": 27,
   "metadata": {},
   "outputs": [
    {
     "name": "stdout",
     "output_type": "stream",
     "text": [
      "Fitting 5 folds for each of 18 candidates, totalling 90 fits\n"
     ]
    },
    {
     "name": "stderr",
     "output_type": "stream",
     "text": [
      "[Parallel(n_jobs=-1)]: Using backend LokyBackend with 16 concurrent workers.\n",
      "[Parallel(n_jobs=-1)]: Done   9 tasks      | elapsed:   11.1s\n",
      "[Parallel(n_jobs=-1)]: Done  90 out of  90 | elapsed:  3.1min finished\n"
     ]
    },
    {
     "data": {
      "text/plain": [
       "GridSearchCV(cv=StratifiedKFold(n_splits=5, random_state=None, shuffle=False),\n",
       "       error_score='raise-deprecating',\n",
       "       estimator=LGBMClassifier(boosting_type='gbdt', class_weight='balanced',\n",
       "        colsample_bytree=0.7, importance_type='split', learning_rate=0.1,\n",
       "        max_depth=10, min_child_samples=20, min_child_weight=0.001,\n",
       "        min_split_gain=0.0, n_estimators=100, n_jobs=1, num_leaves=64,\n",
       "        objective='binary', random_state=42, reg_alpha=0.0, reg_lambda=0.0,\n",
       "        silent=False, subsample=0.5, subsample_for_bin=200000,\n",
       "        subsample_freq=0),\n",
       "       fit_params=None, iid='warn', n_jobs=-1,\n",
       "       param_grid={'n_estimators': [100, 200, 300, 500, 700, 1000], 'learning_rate': [0.001, 0.01, 0.1]},\n",
       "       pre_dispatch='2*n_jobs', refit='f1', return_train_score=True,\n",
       "       scoring={'recall', 'accuracy', 'f1', 'neg_log_loss', 'roc_auc'},\n",
       "       verbose=2)"
      ]
     },
     "execution_count": 27,
     "metadata": {},
     "output_type": "execute_result"
    }
   ],
   "source": [
    "grid2.fit(train, y)"
   ]
  },
  {
   "cell_type": "code",
   "execution_count": 32,
   "metadata": {},
   "outputs": [],
   "source": [
    "grid_res = get_summary_grid(grid2)"
   ]
  },
  {
   "cell_type": "code",
   "execution_count": 33,
   "metadata": {},
   "outputs": [
    {
     "data": {
      "text/html": [
       "<div>\n",
       "<style scoped>\n",
       "    .dataframe tbody tr th:only-of-type {\n",
       "        vertical-align: middle;\n",
       "    }\n",
       "\n",
       "    .dataframe tbody tr th {\n",
       "        vertical-align: top;\n",
       "    }\n",
       "\n",
       "    .dataframe thead th {\n",
       "        text-align: right;\n",
       "    }\n",
       "</style>\n",
       "<table border=\"1\" class=\"dataframe\">\n",
       "  <thead>\n",
       "    <tr style=\"text-align: right;\">\n",
       "      <th></th>\n",
       "      <th>Iter #</th>\n",
       "      <th>train_recall</th>\n",
       "      <th>test_recall</th>\n",
       "      <th>train_accuracy</th>\n",
       "      <th>test_accuracy</th>\n",
       "      <th>train_f1</th>\n",
       "      <th>test_f1</th>\n",
       "      <th>train_neg_log_loss</th>\n",
       "      <th>test_neg_log_loss</th>\n",
       "      <th>train_roc_auc</th>\n",
       "      <th>test_roc_auc</th>\n",
       "      <th>fit_time</th>\n",
       "      <th>score_time</th>\n",
       "      <th>n_estimators</th>\n",
       "      <th>learning_rate</th>\n",
       "    </tr>\n",
       "  </thead>\n",
       "  <tbody>\n",
       "    <tr>\n",
       "      <th>17</th>\n",
       "      <td>18</td>\n",
       "      <td>1.000000</td>\n",
       "      <td>0.503433</td>\n",
       "      <td>0.981996</td>\n",
       "      <td>0.902751</td>\n",
       "      <td>0.904436</td>\n",
       "      <td>0.468631</td>\n",
       "      <td>-0.061938</td>\n",
       "      <td>-0.240877</td>\n",
       "      <td>0.999849</td>\n",
       "      <td>0.887778</td>\n",
       "      <td>11.307185</td>\n",
       "      <td>9.889362</td>\n",
       "      <td>1000</td>\n",
       "      <td>0.1</td>\n",
       "    </tr>\n",
       "    <tr>\n",
       "      <th>16</th>\n",
       "      <td>17</td>\n",
       "      <td>0.999786</td>\n",
       "      <td>0.553559</td>\n",
       "      <td>0.964782</td>\n",
       "      <td>0.890728</td>\n",
       "      <td>0.828706</td>\n",
       "      <td>0.463294</td>\n",
       "      <td>-0.096222</td>\n",
       "      <td>-0.238637</td>\n",
       "      <td>0.999282</td>\n",
       "      <td>0.891550</td>\n",
       "      <td>7.823344</td>\n",
       "      <td>7.790822</td>\n",
       "      <td>700</td>\n",
       "      <td>0.1</td>\n",
       "    </tr>\n",
       "    <tr>\n",
       "      <th>15</th>\n",
       "      <td>16</td>\n",
       "      <td>0.998929</td>\n",
       "      <td>0.593619</td>\n",
       "      <td>0.946012</td>\n",
       "      <td>0.877208</td>\n",
       "      <td>0.759187</td>\n",
       "      <td>0.451777</td>\n",
       "      <td>-0.129053</td>\n",
       "      <td>-0.243773</td>\n",
       "      <td>0.997938</td>\n",
       "      <td>0.894975</td>\n",
       "      <td>5.837960</td>\n",
       "      <td>4.677376</td>\n",
       "      <td>500</td>\n",
       "      <td>0.1</td>\n",
       "    </tr>\n",
       "    <tr>\n",
       "      <th>14</th>\n",
       "      <td>15</td>\n",
       "      <td>0.995341</td>\n",
       "      <td>0.678452</td>\n",
       "      <td>0.910761</td>\n",
       "      <td>0.855240</td>\n",
       "      <td>0.655171</td>\n",
       "      <td>0.444034</td>\n",
       "      <td>-0.180662</td>\n",
       "      <td>-0.261727</td>\n",
       "      <td>0.992973</td>\n",
       "      <td>0.900143</td>\n",
       "      <td>4.032319</td>\n",
       "      <td>2.431508</td>\n",
       "      <td>300</td>\n",
       "      <td>0.1</td>\n",
       "    </tr>\n",
       "    <tr>\n",
       "      <th>13</th>\n",
       "      <td>14</td>\n",
       "      <td>0.990788</td>\n",
       "      <td>0.737150</td>\n",
       "      <td>0.880601</td>\n",
       "      <td>0.836301</td>\n",
       "      <td>0.585670</td>\n",
       "      <td>0.434136</td>\n",
       "      <td>-0.218437</td>\n",
       "      <td>-0.278450</td>\n",
       "      <td>0.985926</td>\n",
       "      <td>0.904037</td>\n",
       "      <td>2.589913</td>\n",
       "      <td>1.388452</td>\n",
       "      <td>200</td>\n",
       "      <td>0.1</td>\n",
       "    </tr>\n",
       "  </tbody>\n",
       "</table>\n",
       "</div>"
      ],
      "text/plain": [
       "    Iter #  train_recall  test_recall  train_accuracy  test_accuracy  \\\n",
       "17      18      1.000000     0.503433        0.981996       0.902751   \n",
       "16      17      0.999786     0.553559        0.964782       0.890728   \n",
       "15      16      0.998929     0.593619        0.946012       0.877208   \n",
       "14      15      0.995341     0.678452        0.910761       0.855240   \n",
       "13      14      0.990788     0.737150        0.880601       0.836301   \n",
       "\n",
       "    train_f1   test_f1  train_neg_log_loss  test_neg_log_loss  train_roc_auc  \\\n",
       "17  0.904436  0.468631           -0.061938          -0.240877       0.999849   \n",
       "16  0.828706  0.463294           -0.096222          -0.238637       0.999282   \n",
       "15  0.759187  0.451777           -0.129053          -0.243773       0.997938   \n",
       "14  0.655171  0.444034           -0.180662          -0.261727       0.992973   \n",
       "13  0.585670  0.434136           -0.218437          -0.278450       0.985926   \n",
       "\n",
       "    test_roc_auc   fit_time  score_time  n_estimators  learning_rate  \n",
       "17      0.887778  11.307185    9.889362          1000            0.1  \n",
       "16      0.891550   7.823344    7.790822           700            0.1  \n",
       "15      0.894975   5.837960    4.677376           500            0.1  \n",
       "14      0.900143   4.032319    2.431508           300            0.1  \n",
       "13      0.904037   2.589913    1.388452           200            0.1  "
      ]
     },
     "execution_count": 33,
     "metadata": {},
     "output_type": "execute_result"
    }
   ],
   "source": [
    "grid_res.sort_values('test_f1', ascending=False).head()"
   ]
  },
  {
   "cell_type": "code",
   "execution_count": 35,
   "metadata": {},
   "outputs": [],
   "source": [
    "params = {\n",
    "    'reg_alpha': [0.1, 1, 10],\n",
    "    'reg_lambda': [0.1, 1, 10]\n",
    "}"
   ]
  },
  {
   "cell_type": "code",
   "execution_count": 37,
   "metadata": {},
   "outputs": [],
   "source": [
    "estimator = grid2.best_estimator_"
   ]
  },
  {
   "cell_type": "code",
   "execution_count": 38,
   "metadata": {},
   "outputs": [],
   "source": [
    "grid3 = GridSearchCV(estimator=estimator,\n",
    "                    param_grid=params,\n",
    "                    scoring={'accuracy', 'precision', 'f1', 'recall', 'roc_auc'},\n",
    "                    refit='f1', # Because we are using multiple evaluation metrics\n",
    "                    cv=StratifiedKFold(5),\n",
    "                    return_train_score=True,\n",
    "                    verbose=2,\n",
    "                    n_jobs=-1)"
   ]
  },
  {
   "cell_type": "code",
   "execution_count": 39,
   "metadata": {},
   "outputs": [
    {
     "name": "stdout",
     "output_type": "stream",
     "text": [
      "Fitting 5 folds for each of 9 candidates, totalling 45 fits\n"
     ]
    },
    {
     "name": "stderr",
     "output_type": "stream",
     "text": [
      "[Parallel(n_jobs=-1)]: Using backend LokyBackend with 16 concurrent workers.\n",
      "[Parallel(n_jobs=-1)]: Done   9 tasks      | elapsed:  1.2min\n",
      "[Parallel(n_jobs=-1)]: Done  37 out of  45 | elapsed:  4.7min remaining:  1.0min\n",
      "[Parallel(n_jobs=-1)]: Done  45 out of  45 | elapsed:  4.8min finished\n"
     ]
    },
    {
     "data": {
      "text/plain": [
       "GridSearchCV(cv=StratifiedKFold(n_splits=5, random_state=None, shuffle=False),\n",
       "       error_score='raise-deprecating',\n",
       "       estimator=LGBMClassifier(boosting_type='gbdt', class_weight='balanced',\n",
       "        colsample_bytree=0.7, importance_type='split', learning_rate=0.1,\n",
       "        max_depth=10, min_child_samples=20, min_child_weight=0.001,\n",
       "        min_split_gain=0.0, n_estimators=1000, n_jobs=1, num_leaves=64,\n",
       "        objective='binary', random_state=42, reg_alpha=0.0, reg_lambda=0.0,\n",
       "        silent=False, subsample=0.5, subsample_for_bin=200000,\n",
       "        subsample_freq=0),\n",
       "       fit_params=None, iid='warn', n_jobs=-1,\n",
       "       param_grid={'reg_alpha': [0.1, 1, 10], 'reg_lambda': [0.1, 1, 10]},\n",
       "       pre_dispatch='2*n_jobs', refit='f1', return_train_score=True,\n",
       "       scoring={'recall', 'f1', 'accuracy', 'roc_auc', 'precision'},\n",
       "       verbose=2)"
      ]
     },
     "execution_count": 39,
     "metadata": {},
     "output_type": "execute_result"
    }
   ],
   "source": [
    "grid3.fit(train, y)"
   ]
  },
  {
   "cell_type": "code",
   "execution_count": 41,
   "metadata": {},
   "outputs": [],
   "source": [
    "grid_res = get_summary_grid(grid3)"
   ]
  },
  {
   "cell_type": "code",
   "execution_count": 42,
   "metadata": {},
   "outputs": [
    {
     "data": {
      "text/html": [
       "<div>\n",
       "<style scoped>\n",
       "    .dataframe tbody tr th:only-of-type {\n",
       "        vertical-align: middle;\n",
       "    }\n",
       "\n",
       "    .dataframe tbody tr th {\n",
       "        vertical-align: top;\n",
       "    }\n",
       "\n",
       "    .dataframe thead th {\n",
       "        text-align: right;\n",
       "    }\n",
       "</style>\n",
       "<table border=\"1\" class=\"dataframe\">\n",
       "  <thead>\n",
       "    <tr style=\"text-align: right;\">\n",
       "      <th></th>\n",
       "      <th>Iter #</th>\n",
       "      <th>train_recall</th>\n",
       "      <th>test_recall</th>\n",
       "      <th>train_f1</th>\n",
       "      <th>test_f1</th>\n",
       "      <th>train_accuracy</th>\n",
       "      <th>test_accuracy</th>\n",
       "      <th>train_roc_auc</th>\n",
       "      <th>test_roc_auc</th>\n",
       "      <th>train_precision</th>\n",
       "      <th>test_precision</th>\n",
       "      <th>fit_time</th>\n",
       "      <th>score_time</th>\n",
       "      <th>reg_alpha</th>\n",
       "      <th>reg_lambda</th>\n",
       "    </tr>\n",
       "  </thead>\n",
       "  <tbody>\n",
       "    <tr>\n",
       "      <th>0</th>\n",
       "      <td>1</td>\n",
       "      <td>1.000000</td>\n",
       "      <td>0.509861</td>\n",
       "      <td>0.906727</td>\n",
       "      <td>0.472095</td>\n",
       "      <td>0.982475</td>\n",
       "      <td>0.902879</td>\n",
       "      <td>0.999854</td>\n",
       "      <td>0.892015</td>\n",
       "      <td>0.829384</td>\n",
       "      <td>0.439582</td>\n",
       "      <td>9.511136</td>\n",
       "      <td>12.207341</td>\n",
       "      <td>0.1</td>\n",
       "      <td>0.1</td>\n",
       "    </tr>\n",
       "    <tr>\n",
       "      <th>3</th>\n",
       "      <td>4</td>\n",
       "      <td>1.000000</td>\n",
       "      <td>0.525281</td>\n",
       "      <td>0.895422</td>\n",
       "      <td>0.471379</td>\n",
       "      <td>0.980103</td>\n",
       "      <td>0.899650</td>\n",
       "      <td>0.999800</td>\n",
       "      <td>0.895805</td>\n",
       "      <td>0.810659</td>\n",
       "      <td>0.427552</td>\n",
       "      <td>10.405811</td>\n",
       "      <td>9.868875</td>\n",
       "      <td>1.0</td>\n",
       "      <td>0.1</td>\n",
       "    </tr>\n",
       "    <tr>\n",
       "      <th>1</th>\n",
       "      <td>2</td>\n",
       "      <td>1.000000</td>\n",
       "      <td>0.532782</td>\n",
       "      <td>0.874199</td>\n",
       "      <td>0.468708</td>\n",
       "      <td>0.975483</td>\n",
       "      <td>0.897114</td>\n",
       "      <td>0.999715</td>\n",
       "      <td>0.895828</td>\n",
       "      <td>0.776540</td>\n",
       "      <td>0.418400</td>\n",
       "      <td>9.725919</td>\n",
       "      <td>12.251292</td>\n",
       "      <td>0.1</td>\n",
       "      <td>1.0</td>\n",
       "    </tr>\n",
       "    <tr>\n",
       "      <th>4</th>\n",
       "      <td>5</td>\n",
       "      <td>1.000000</td>\n",
       "      <td>0.542636</td>\n",
       "      <td>0.863947</td>\n",
       "      <td>0.467597</td>\n",
       "      <td>0.973175</td>\n",
       "      <td>0.894742</td>\n",
       "      <td>0.999621</td>\n",
       "      <td>0.896868</td>\n",
       "      <td>0.760484</td>\n",
       "      <td>0.410833</td>\n",
       "      <td>10.285917</td>\n",
       "      <td>9.023313</td>\n",
       "      <td>1.0</td>\n",
       "      <td>1.0</td>\n",
       "    </tr>\n",
       "    <tr>\n",
       "      <th>2</th>\n",
       "      <td>3</td>\n",
       "      <td>0.999679</td>\n",
       "      <td>0.608400</td>\n",
       "      <td>0.761765</td>\n",
       "      <td>0.461656</td>\n",
       "      <td>0.946719</td>\n",
       "      <td>0.879142</td>\n",
       "      <td>0.997620</td>\n",
       "      <td>0.901192</td>\n",
       "      <td>0.615395</td>\n",
       "      <td>0.371975</td>\n",
       "      <td>10.124613</td>\n",
       "      <td>13.493482</td>\n",
       "      <td>0.1</td>\n",
       "      <td>10.0</td>\n",
       "    </tr>\n",
       "  </tbody>\n",
       "</table>\n",
       "</div>"
      ],
      "text/plain": [
       "   Iter #  train_recall  test_recall  train_f1   test_f1  train_accuracy  \\\n",
       "0       1      1.000000     0.509861  0.906727  0.472095        0.982475   \n",
       "3       4      1.000000     0.525281  0.895422  0.471379        0.980103   \n",
       "1       2      1.000000     0.532782  0.874199  0.468708        0.975483   \n",
       "4       5      1.000000     0.542636  0.863947  0.467597        0.973175   \n",
       "2       3      0.999679     0.608400  0.761765  0.461656        0.946719   \n",
       "\n",
       "   test_accuracy  train_roc_auc  test_roc_auc  train_precision  \\\n",
       "0       0.902879       0.999854      0.892015         0.829384   \n",
       "3       0.899650       0.999800      0.895805         0.810659   \n",
       "1       0.897114       0.999715      0.895828         0.776540   \n",
       "4       0.894742       0.999621      0.896868         0.760484   \n",
       "2       0.879142       0.997620      0.901192         0.615395   \n",
       "\n",
       "   test_precision   fit_time  score_time  reg_alpha  reg_lambda  \n",
       "0        0.439582   9.511136   12.207341        0.1         0.1  \n",
       "3        0.427552  10.405811    9.868875        1.0         0.1  \n",
       "1        0.418400   9.725919   12.251292        0.1         1.0  \n",
       "4        0.410833  10.285917    9.023313        1.0         1.0  \n",
       "2        0.371975  10.124613   13.493482        0.1        10.0  "
      ]
     },
     "execution_count": 42,
     "metadata": {},
     "output_type": "execute_result"
    }
   ],
   "source": [
    "grid_res.sort_values('test_f1', ascending=False).head()"
   ]
  },
  {
   "cell_type": "markdown",
   "metadata": {},
   "source": [
    "Submission 1 with the existing model"
   ]
  },
  {
   "cell_type": "code",
   "execution_count": 55,
   "metadata": {},
   "outputs": [],
   "source": [
    "pred = grid3.best_estimator_.predict(test)"
   ]
  },
  {
   "cell_type": "code",
   "execution_count": 56,
   "metadata": {},
   "outputs": [
    {
     "data": {
      "text/plain": [
       "array([0, 0, 0, ..., 0, 0, 1])"
      ]
     },
     "execution_count": 56,
     "metadata": {},
     "output_type": "execute_result"
    }
   ],
   "source": [
    "pred"
   ]
  },
  {
   "cell_type": "code",
   "execution_count": 58,
   "metadata": {},
   "outputs": [],
   "source": [
    "pd.DataFrame({'employee_id': eid, 'is_promoted': pred}).to_csv('./data/sub1.csv', index=False)"
   ]
  },
  {
   "cell_type": "code",
   "execution_count": 59,
   "metadata": {},
   "outputs": [
    {
     "name": "stdout",
     "output_type": "stream",
     "text": [
      "sub1.csv  test_cleaned.csv  test.csv  train_cleaned.csv  train.csv  y.npy\r\n"
     ]
    }
   ],
   "source": [
    "!ls data"
   ]
  },
  {
   "cell_type": "markdown",
   "metadata": {},
   "source": [
    "### Leaderboard Score - 0.4498229044, Rank - 897"
   ]
  },
  {
   "cell_type": "markdown",
   "metadata": {},
   "source": [
    "Improving the score by changing the threshold"
   ]
  },
  {
   "cell_type": "code",
   "execution_count": 14,
   "metadata": {},
   "outputs": [
    {
     "name": "stdout",
     "output_type": "stream",
     "text": [
      "\u001b[H\u001b[2J"
     ]
    }
   ],
   "source": []
  },
  {
   "cell_type": "code",
   "execution_count": null,
   "metadata": {},
   "outputs": [],
   "source": []
  }
 ],
 "metadata": {
  "kernelspec": {
   "display_name": "Python 3",
   "language": "python",
   "name": "python3"
  },
  "language_info": {
   "codemirror_mode": {
    "name": "ipython",
    "version": 3
   },
   "file_extension": ".py",
   "mimetype": "text/x-python",
   "name": "python",
   "nbconvert_exporter": "python",
   "pygments_lexer": "ipython3",
   "version": "3.5.2"
  }
 },
 "nbformat": 4,
 "nbformat_minor": 2
}
