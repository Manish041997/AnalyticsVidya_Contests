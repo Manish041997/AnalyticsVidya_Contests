{
 "cells": [
  {
   "cell_type": "code",
   "execution_count": 1,
   "metadata": {},
   "outputs": [],
   "source": [
    "import pandas as pd\n",
    "import numpy as np\n",
    "import matplotlib.pyplot as plt\n",
    "import seaborn as sns"
   ]
  },
  {
   "cell_type": "code",
   "execution_count": 2,
   "metadata": {},
   "outputs": [],
   "source": [
    "from sklearn.model_selection import StratifiedKFold, train_test_split\n",
    "from sklearn.model_selection import RandomizedSearchCV, GridSearchCV\n",
    "from sklearn.linear_model import LogisticRegression\n",
    "from sklearn.ensemble import RandomForestClassifier\n",
    "from sklearn.metrics import (\n",
    "    roc_auc_score, log_loss, \n",
    "    confusion_matrix, accuracy_score,\n",
    "    precision_score, recall_score, f1_score)"
   ]
  },
  {
   "cell_type": "code",
   "execution_count": 3,
   "metadata": {},
   "outputs": [],
   "source": [
    "from collections import defaultdict"
   ]
  },
  {
   "cell_type": "code",
   "execution_count": 4,
   "metadata": {},
   "outputs": [],
   "source": [
    "import lightgbm as lgbm\n",
    "import xgboost as xgb"
   ]
  },
  {
   "cell_type": "code",
   "execution_count": 5,
   "metadata": {},
   "outputs": [],
   "source": [
    "def get_summary_grid(grid):\n",
    "    parms = list(grid.param_grid.keys())\n",
    "    columns = ['Iter #']\n",
    "    scorings = grid.scoring\n",
    "    for scoring in scorings:\n",
    "        for typ in ['train', 'test']:\n",
    "            columns.append('{}_{}'.format(typ, scoring))\n",
    "    columns.extend(['fit_time', 'score_time'])\n",
    "    for param in grid.param_grid.keys():\n",
    "        columns.append(param)\n",
    "    df = pd.DataFrame(columns=columns)\n",
    "    cv_res = grid.cv_results_\n",
    "    for col in columns[1:-len(parms)]:\n",
    "        df[col] = cv_res['mean_' + col]\n",
    "    items = 1\n",
    "    for k, v in grid.param_grid.items():\n",
    "        items *= len(v)\n",
    "    df['Iter #'] = np.array(range(items)) + 1\n",
    "    res = defaultdict(list)\n",
    "    for each in grid.cv_results_['params']:\n",
    "        for p in parms:\n",
    "            res[p].append(each[p])\n",
    "    for k, v in res.items():\n",
    "        df[k] = v\n",
    "    return df"
   ]
  },
  {
   "cell_type": "code",
   "execution_count": 6,
   "metadata": {},
   "outputs": [],
   "source": [
    "def get_summary_randomized(grid):\n",
    "    parms = list(grid.param_distributions.keys())\n",
    "    columns = []\n",
    "    scorings = grid.scoring\n",
    "    for scoring in scorings:\n",
    "        for typ in ['train', 'test']:\n",
    "            columns.append('{}_{}'.format(typ, scoring))\n",
    "    columns.extend(['fit_time', 'score_time'])\n",
    "    for param in parms:\n",
    "        columns.append(param)\n",
    "    df = pd.DataFrame(columns=columns)\n",
    "    cv_res = grid.cv_results_\n",
    "    for col in columns[0:-len(parms)]:\n",
    "        df[col] = cv_res['mean_' + col]\n",
    "    items = 1\n",
    "#     for k, v in grid.param_distributions.items():\n",
    "#         items *= len(v)\n",
    "#     df['Iter #'] = np.array(range(items)) + 1\n",
    "    res = defaultdict(list)\n",
    "    for each in grid.cv_results_['params']:\n",
    "        for p in parms:\n",
    "            res[p].append(each[p])\n",
    "    for k, v in res.items():\n",
    "        df[k] = v\n",
    "    return df"
   ]
  },
  {
   "cell_type": "code",
   "execution_count": 7,
   "metadata": {},
   "outputs": [],
   "source": [
    "dtrain = pd.read_csv('./data/dtrain.csv')\n",
    "dtest = pd.read_csv('./data/dtest.csv')"
   ]
  },
  {
   "cell_type": "code",
   "execution_count": 8,
   "metadata": {},
   "outputs": [],
   "source": [
    "dtest.drop('is_promoted', inplace=True, axis=1)"
   ]
  },
  {
   "cell_type": "code",
   "execution_count": 9,
   "metadata": {},
   "outputs": [],
   "source": [
    "y = dtrain.is_promoted.values\n",
    "X = dtrain.drop('is_promoted', axis=1)"
   ]
  },
  {
   "cell_type": "code",
   "execution_count": 10,
   "metadata": {},
   "outputs": [
    {
     "data": {
      "text/plain": [
       "array([0, 0, 0, ..., 0, 0, 0])"
      ]
     },
     "execution_count": 10,
     "metadata": {},
     "output_type": "execute_result"
    }
   ],
   "source": [
    "y"
   ]
  },
  {
   "cell_type": "code",
   "execution_count": 11,
   "metadata": {},
   "outputs": [],
   "source": [
    "X.drop('employee_id', axis=1, inplace=True)"
   ]
  },
  {
   "cell_type": "code",
   "execution_count": 12,
   "metadata": {},
   "outputs": [],
   "source": [
    "X_train, X_test, y_train, y_test = train_test_split(X, y, test_size=0.2, \n",
    "                                                    random_state=42)"
   ]
  },
  {
   "cell_type": "markdown",
   "metadata": {},
   "source": [
    "## GridSearch"
   ]
  },
  {
   "cell_type": "code",
   "execution_count": 13,
   "metadata": {},
   "outputs": [],
   "source": [
    "# params = {\n",
    "#     'max_depth': [2, 4, 6, 8, 10], \n",
    "#     'subsample': [0.25, 0.5, 0.75, 1.0], # Row sampling like Random Forest \n",
    "#     'colsample_bytree': [0.3, 0.5, 0.7, 1.0],  # Column sampling like Random Forest\n",
    "#     'num_leaves': [2**2, 2**4, 2**6, 2**8]\n",
    "# }\n",
    "\n",
    "params = {\n",
    "  'min_child_weight':[5, 6, 8],\n",
    "  'max_depth': range(3,10,2),\n",
    "  'n_estimators':[200, 300, 400, 500],\n",
    "#   'scale_pos_weight':[1, 2, 3, 4],\n",
    "#   'colsample_bytree':[0.7, 0.8], \n",
    "#   'subsample':[0.5, 0.7, 0.8, 0.9],\n",
    "#   'gamma':[0, 0.2, 0.4, 0.6]\n",
    "}"
   ]
  },
  {
   "cell_type": "code",
   "execution_count": 14,
   "metadata": {},
   "outputs": [],
   "source": [
    "estimator = lgbm.LGBMClassifier(random_state=42, \n",
    "                                silent=False, \n",
    "                                n_jobs=1, \n",
    "                                class_weight='balanced',\n",
    "                                objective='binary')\n",
    "# estimator = xgb.XGBClassifier(\n",
    "#     learning_rate=0.1,\n",
    "#     objective= 'binary:logistic',\n",
    "#     seed=42,\n",
    "#     nthread=4\n",
    "# )"
   ]
  },
  {
   "cell_type": "code",
   "execution_count": 15,
   "metadata": {},
   "outputs": [],
   "source": [
    "grid = GridSearchCV(estimator=estimator,\n",
    "                    param_grid=params,\n",
    "                    scoring={'accuracy', 'neg_log_loss', 'f1', 'recall', 'roc_auc'},\n",
    "                    refit='f1', # Because we are using multiple evaluation metrics\n",
    "                    cv=StratifiedKFold(5, shuffle=True,),\n",
    "                    return_train_score=True,\n",
    "                    verbose=2,\n",
    "                    n_jobs=-1)"
   ]
  },
  {
   "cell_type": "code",
   "execution_count": 16,
   "metadata": {},
   "outputs": [
    {
     "name": "stdout",
     "output_type": "stream",
     "text": [
      "Fitting 5 folds for each of 48 candidates, totalling 240 fits\n"
     ]
    },
    {
     "name": "stderr",
     "output_type": "stream",
     "text": [
      "[Parallel(n_jobs=-1)]: Using backend LokyBackend with 16 concurrent workers.\n",
      "[Parallel(n_jobs=-1)]: Done   9 tasks      | elapsed:   51.2s\n",
      "[Parallel(n_jobs=-1)]: Done 130 tasks      | elapsed:  7.0min\n",
      "[Parallel(n_jobs=-1)]: Done 240 out of 240 | elapsed: 13.3min finished\n"
     ]
    },
    {
     "data": {
      "text/plain": [
       "GridSearchCV(cv=StratifiedKFold(n_splits=5, random_state=None, shuffle=True),\n",
       "       error_score='raise-deprecating',\n",
       "       estimator=LGBMClassifier(boosting_type='gbdt', class_weight='balanced',\n",
       "        colsample_bytree=1.0, importance_type='split', learning_rate=0.1,\n",
       "        max_depth=-1, min_child_samples=20, min_child_weight=0.001,\n",
       "        min_split_gain=0.0, n_estimators=100, n_jobs=1, num_leaves=31,\n",
       "        objective='binary', random_state=42, reg_alpha=0.0, reg_lambda=0.0,\n",
       "        silent=False, subsample=1.0, subsample_for_bin=200000,\n",
       "        subsample_freq=0),\n",
       "       fit_params=None, iid='warn', n_jobs=-1,\n",
       "       param_grid={'n_estimators': [200, 300, 400, 500], 'min_child_weight': [5, 6, 8], 'max_depth': range(3, 10, 2)},\n",
       "       pre_dispatch='2*n_jobs', refit='f1', return_train_score=True,\n",
       "       scoring={'roc_auc', 'recall', 'neg_log_loss', 'f1', 'accuracy'},\n",
       "       verbose=2)"
      ]
     },
     "execution_count": 16,
     "metadata": {},
     "output_type": "execute_result"
    }
   ],
   "source": [
    "grid.fit(X_train, y_train)"
   ]
  },
  {
   "cell_type": "code",
   "execution_count": 17,
   "metadata": {},
   "outputs": [],
   "source": [
    "grid_res = get_summary_grid(grid)"
   ]
  },
  {
   "cell_type": "code",
   "execution_count": 18,
   "metadata": {},
   "outputs": [
    {
     "data": {
      "text/html": [
       "<div>\n",
       "<style scoped>\n",
       "    .dataframe tbody tr th:only-of-type {\n",
       "        vertical-align: middle;\n",
       "    }\n",
       "\n",
       "    .dataframe tbody tr th {\n",
       "        vertical-align: top;\n",
       "    }\n",
       "\n",
       "    .dataframe thead th {\n",
       "        text-align: right;\n",
       "    }\n",
       "</style>\n",
       "<table border=\"1\" class=\"dataframe\">\n",
       "  <thead>\n",
       "    <tr style=\"text-align: right;\">\n",
       "      <th></th>\n",
       "      <th>Iter #</th>\n",
       "      <th>train_roc_auc</th>\n",
       "      <th>test_roc_auc</th>\n",
       "      <th>train_recall</th>\n",
       "      <th>test_recall</th>\n",
       "      <th>train_neg_log_loss</th>\n",
       "      <th>test_neg_log_loss</th>\n",
       "      <th>train_f1</th>\n",
       "      <th>test_f1</th>\n",
       "      <th>train_accuracy</th>\n",
       "      <th>test_accuracy</th>\n",
       "      <th>fit_time</th>\n",
       "      <th>score_time</th>\n",
       "      <th>n_estimators</th>\n",
       "      <th>min_child_weight</th>\n",
       "      <th>max_depth</th>\n",
       "    </tr>\n",
       "  </thead>\n",
       "  <tbody>\n",
       "    <tr>\n",
       "      <th>39</th>\n",
       "      <td>40</td>\n",
       "      <td>0.997668</td>\n",
       "      <td>0.900655</td>\n",
       "      <td>0.999801</td>\n",
       "      <td>0.624468</td>\n",
       "      <td>-0.145711</td>\n",
       "      <td>-0.245394</td>\n",
       "      <td>0.743987</td>\n",
       "      <td>0.456559</td>\n",
       "      <td>0.940964</td>\n",
       "      <td>0.872531</td>\n",
       "      <td>35.459476</td>\n",
       "      <td>8.688395</td>\n",
       "      <td>500</td>\n",
       "      <td>5</td>\n",
       "      <td>9</td>\n",
       "    </tr>\n",
       "    <tr>\n",
       "      <th>43</th>\n",
       "      <td>44</td>\n",
       "      <td>0.997220</td>\n",
       "      <td>0.900663</td>\n",
       "      <td>0.999668</td>\n",
       "      <td>0.628192</td>\n",
       "      <td>-0.149980</td>\n",
       "      <td>-0.247799</td>\n",
       "      <td>0.736755</td>\n",
       "      <td>0.454650</td>\n",
       "      <td>0.938723</td>\n",
       "      <td>0.870775</td>\n",
       "      <td>34.683436</td>\n",
       "      <td>8.436816</td>\n",
       "      <td>500</td>\n",
       "      <td>6</td>\n",
       "      <td>9</td>\n",
       "    </tr>\n",
       "    <tr>\n",
       "      <th>47</th>\n",
       "      <td>48</td>\n",
       "      <td>0.996526</td>\n",
       "      <td>0.902379</td>\n",
       "      <td>0.999668</td>\n",
       "      <td>0.637500</td>\n",
       "      <td>-0.157111</td>\n",
       "      <td>-0.250326</td>\n",
       "      <td>0.722972</td>\n",
       "      <td>0.454298</td>\n",
       "      <td>0.934259</td>\n",
       "      <td>0.868677</td>\n",
       "      <td>32.830574</td>\n",
       "      <td>6.155426</td>\n",
       "      <td>500</td>\n",
       "      <td>8</td>\n",
       "      <td>9</td>\n",
       "    </tr>\n",
       "    <tr>\n",
       "      <th>46</th>\n",
       "      <td>47</td>\n",
       "      <td>0.994018</td>\n",
       "      <td>0.903836</td>\n",
       "      <td>0.998737</td>\n",
       "      <td>0.675532</td>\n",
       "      <td>-0.179474</td>\n",
       "      <td>-0.259948</td>\n",
       "      <td>0.678237</td>\n",
       "      <td>0.452412</td>\n",
       "      <td>0.918687</td>\n",
       "      <td>0.859805</td>\n",
       "      <td>29.722765</td>\n",
       "      <td>6.759035</td>\n",
       "      <td>400</td>\n",
       "      <td>8</td>\n",
       "      <td>9</td>\n",
       "    </tr>\n",
       "    <tr>\n",
       "      <th>38</th>\n",
       "      <td>39</td>\n",
       "      <td>0.995495</td>\n",
       "      <td>0.901978</td>\n",
       "      <td>0.998271</td>\n",
       "      <td>0.660904</td>\n",
       "      <td>-0.169483</td>\n",
       "      <td>-0.255429</td>\n",
       "      <td>0.692610</td>\n",
       "      <td>0.451472</td>\n",
       "      <td>0.923995</td>\n",
       "      <td>0.862291</td>\n",
       "      <td>30.046930</td>\n",
       "      <td>7.789849</td>\n",
       "      <td>400</td>\n",
       "      <td>5</td>\n",
       "      <td>9</td>\n",
       "    </tr>\n",
       "  </tbody>\n",
       "</table>\n",
       "</div>"
      ],
      "text/plain": [
       "    Iter #  train_roc_auc  test_roc_auc  train_recall  test_recall  \\\n",
       "39      40       0.997668      0.900655      0.999801     0.624468   \n",
       "43      44       0.997220      0.900663      0.999668     0.628192   \n",
       "47      48       0.996526      0.902379      0.999668     0.637500   \n",
       "46      47       0.994018      0.903836      0.998737     0.675532   \n",
       "38      39       0.995495      0.901978      0.998271     0.660904   \n",
       "\n",
       "    train_neg_log_loss  test_neg_log_loss  train_f1   test_f1  train_accuracy  \\\n",
       "39           -0.145711          -0.245394  0.743987  0.456559        0.940964   \n",
       "43           -0.149980          -0.247799  0.736755  0.454650        0.938723   \n",
       "47           -0.157111          -0.250326  0.722972  0.454298        0.934259   \n",
       "46           -0.179474          -0.259948  0.678237  0.452412        0.918687   \n",
       "38           -0.169483          -0.255429  0.692610  0.451472        0.923995   \n",
       "\n",
       "    test_accuracy   fit_time  score_time  n_estimators  min_child_weight  \\\n",
       "39       0.872531  35.459476    8.688395           500                 5   \n",
       "43       0.870775  34.683436    8.436816           500                 6   \n",
       "47       0.868677  32.830574    6.155426           500                 8   \n",
       "46       0.859805  29.722765    6.759035           400                 8   \n",
       "38       0.862291  30.046930    7.789849           400                 5   \n",
       "\n",
       "    max_depth  \n",
       "39          9  \n",
       "43          9  \n",
       "47          9  \n",
       "46          9  \n",
       "38          9  "
      ]
     },
     "execution_count": 18,
     "metadata": {},
     "output_type": "execute_result"
    }
   ],
   "source": [
    "grid_res.sort_values('test_f1', ascending=False).head()"
   ]
  },
  {
   "cell_type": "code",
   "execution_count": 19,
   "metadata": {},
   "outputs": [],
   "source": [
    "params = {\n",
    "      'colsample_bytree':[0.7, 0.8], \n",
    "      'subsample':[0.5, 0.7, 0.8, 0.9],\n",
    "      'reg_lambda':[0, 0.2, 0.4, 0.6, 0.8],\n",
    "      'reg_alpha':[0, 0.2, 0.4, 0.6, 0.8],\n",
    "}"
   ]
  },
  {
   "cell_type": "code",
   "execution_count": 20,
   "metadata": {},
   "outputs": [],
   "source": [
    "estimator = grid.best_estimator_"
   ]
  },
  {
   "cell_type": "code",
   "execution_count": 21,
   "metadata": {},
   "outputs": [],
   "source": [
    "grid2 = GridSearchCV(estimator=estimator,\n",
    "                    param_grid=params,\n",
    "                    scoring={'accuracy', 'neg_log_loss', 'f1', 'recall', 'roc_auc'},\n",
    "                    refit='f1', # Because we are using multiple evaluation metrics\n",
    "                    cv=StratifiedKFold(2),\n",
    "                    return_train_score=True,\n",
    "                    verbose=2,\n",
    "                    n_jobs=-1)"
   ]
  },
  {
   "cell_type": "code",
   "execution_count": 22,
   "metadata": {},
   "outputs": [
    {
     "name": "stdout",
     "output_type": "stream",
     "text": [
      "Fitting 2 folds for each of 200 candidates, totalling 400 fits\n"
     ]
    },
    {
     "name": "stderr",
     "output_type": "stream",
     "text": [
      "[Parallel(n_jobs=-1)]: Using backend LokyBackend with 16 concurrent workers.\n",
      "[Parallel(n_jobs=-1)]: Done   9 tasks      | elapsed:  1.1min\n",
      "[Parallel(n_jobs=-1)]: Done 130 tasks      | elapsed:  8.8min\n",
      "[Parallel(n_jobs=-1)]: Done 333 tasks      | elapsed: 20.8min\n",
      "[Parallel(n_jobs=-1)]: Done 400 out of 400 | elapsed: 24.7min finished\n"
     ]
    },
    {
     "data": {
      "text/plain": [
       "GridSearchCV(cv=StratifiedKFold(n_splits=2, random_state=None, shuffle=False),\n",
       "       error_score='raise-deprecating',\n",
       "       estimator=LGBMClassifier(boosting_type='gbdt', class_weight='balanced',\n",
       "        colsample_bytree=1.0, importance_type='split', learning_rate=0.1,\n",
       "        max_depth=9, min_child_samples=20, min_child_weight=5,\n",
       "        min_split_gain=0.0, n_estimators=500, n_jobs=1, num_leaves=31,\n",
       "        objective='binary', random_state=42, reg_alpha=0.0, reg_lambda=0.0,\n",
       "        silent=False, subsample=1.0, subsample_for_bin=200000,\n",
       "        subsample_freq=0),\n",
       "       fit_params=None, iid='warn', n_jobs=-1,\n",
       "       param_grid={'colsample_bytree': [0.7, 0.8], 'reg_lambda': [0, 0.2, 0.4, 0.6, 0.8], 'reg_alpha': [0, 0.2, 0.4, 0.6, 0.8], 'subsample': [0.5, 0.7, 0.8, 0.9]},\n",
       "       pre_dispatch='2*n_jobs', refit='f1', return_train_score=True,\n",
       "       scoring={'roc_auc', 'recall', 'neg_log_loss', 'f1', 'accuracy'},\n",
       "       verbose=2)"
      ]
     },
     "execution_count": 22,
     "metadata": {},
     "output_type": "execute_result"
    }
   ],
   "source": [
    "grid2.fit(X_train, y_train)"
   ]
  },
  {
   "cell_type": "code",
   "execution_count": 23,
   "metadata": {},
   "outputs": [],
   "source": [
    "grid_res = get_summary_grid(grid2)"
   ]
  },
  {
   "cell_type": "code",
   "execution_count": 24,
   "metadata": {},
   "outputs": [
    {
     "data": {
      "text/html": [
       "<div>\n",
       "<style scoped>\n",
       "    .dataframe tbody tr th:only-of-type {\n",
       "        vertical-align: middle;\n",
       "    }\n",
       "\n",
       "    .dataframe tbody tr th {\n",
       "        vertical-align: top;\n",
       "    }\n",
       "\n",
       "    .dataframe thead th {\n",
       "        text-align: right;\n",
       "    }\n",
       "</style>\n",
       "<table border=\"1\" class=\"dataframe\">\n",
       "  <thead>\n",
       "    <tr style=\"text-align: right;\">\n",
       "      <th></th>\n",
       "      <th>Iter #</th>\n",
       "      <th>train_roc_auc</th>\n",
       "      <th>test_roc_auc</th>\n",
       "      <th>train_recall</th>\n",
       "      <th>test_recall</th>\n",
       "      <th>train_neg_log_loss</th>\n",
       "      <th>test_neg_log_loss</th>\n",
       "      <th>train_f1</th>\n",
       "      <th>test_f1</th>\n",
       "      <th>train_accuracy</th>\n",
       "      <th>test_accuracy</th>\n",
       "      <th>fit_time</th>\n",
       "      <th>score_time</th>\n",
       "      <th>colsample_bytree</th>\n",
       "      <th>reg_lambda</th>\n",
       "      <th>reg_alpha</th>\n",
       "      <th>subsample</th>\n",
       "    </tr>\n",
       "  </thead>\n",
       "  <tbody>\n",
       "    <tr>\n",
       "      <th>84</th>\n",
       "      <td>85</td>\n",
       "      <td>0.999764</td>\n",
       "      <td>0.896027</td>\n",
       "      <td>1.0</td>\n",
       "      <td>0.538032</td>\n",
       "      <td>-0.093582</td>\n",
       "      <td>-0.224847</td>\n",
       "      <td>0.877851</td>\n",
       "      <td>0.471230</td>\n",
       "      <td>0.976098</td>\n",
       "      <td>0.896479</td>\n",
       "      <td>21.823719</td>\n",
       "      <td>18.141407</td>\n",
       "      <td>0.7</td>\n",
       "      <td>0.2</td>\n",
       "      <td>0.8</td>\n",
       "      <td>0.5</td>\n",
       "    </tr>\n",
       "    <tr>\n",
       "      <th>85</th>\n",
       "      <td>86</td>\n",
       "      <td>0.999764</td>\n",
       "      <td>0.896027</td>\n",
       "      <td>1.0</td>\n",
       "      <td>0.538032</td>\n",
       "      <td>-0.093582</td>\n",
       "      <td>-0.224847</td>\n",
       "      <td>0.877851</td>\n",
       "      <td>0.471230</td>\n",
       "      <td>0.976098</td>\n",
       "      <td>0.896479</td>\n",
       "      <td>21.437577</td>\n",
       "      <td>18.047170</td>\n",
       "      <td>0.7</td>\n",
       "      <td>0.2</td>\n",
       "      <td>0.8</td>\n",
       "      <td>0.7</td>\n",
       "    </tr>\n",
       "    <tr>\n",
       "      <th>86</th>\n",
       "      <td>87</td>\n",
       "      <td>0.999764</td>\n",
       "      <td>0.896027</td>\n",
       "      <td>1.0</td>\n",
       "      <td>0.538032</td>\n",
       "      <td>-0.093582</td>\n",
       "      <td>-0.224847</td>\n",
       "      <td>0.877851</td>\n",
       "      <td>0.471230</td>\n",
       "      <td>0.976098</td>\n",
       "      <td>0.896479</td>\n",
       "      <td>21.742348</td>\n",
       "      <td>18.677173</td>\n",
       "      <td>0.7</td>\n",
       "      <td>0.2</td>\n",
       "      <td>0.8</td>\n",
       "      <td>0.8</td>\n",
       "    </tr>\n",
       "    <tr>\n",
       "      <th>87</th>\n",
       "      <td>88</td>\n",
       "      <td>0.999764</td>\n",
       "      <td>0.896027</td>\n",
       "      <td>1.0</td>\n",
       "      <td>0.538032</td>\n",
       "      <td>-0.093582</td>\n",
       "      <td>-0.224847</td>\n",
       "      <td>0.877851</td>\n",
       "      <td>0.471230</td>\n",
       "      <td>0.976098</td>\n",
       "      <td>0.896479</td>\n",
       "      <td>21.120753</td>\n",
       "      <td>17.616878</td>\n",
       "      <td>0.7</td>\n",
       "      <td>0.2</td>\n",
       "      <td>0.8</td>\n",
       "      <td>0.9</td>\n",
       "    </tr>\n",
       "    <tr>\n",
       "      <th>183</th>\n",
       "      <td>184</td>\n",
       "      <td>0.999780</td>\n",
       "      <td>0.896345</td>\n",
       "      <td>1.0</td>\n",
       "      <td>0.539894</td>\n",
       "      <td>-0.091333</td>\n",
       "      <td>-0.224562</td>\n",
       "      <td>0.878557</td>\n",
       "      <td>0.471022</td>\n",
       "      <td>0.976281</td>\n",
       "      <td>0.896022</td>\n",
       "      <td>22.578263</td>\n",
       "      <td>19.695053</td>\n",
       "      <td>0.8</td>\n",
       "      <td>0.0</td>\n",
       "      <td>0.8</td>\n",
       "      <td>0.9</td>\n",
       "    </tr>\n",
       "  </tbody>\n",
       "</table>\n",
       "</div>"
      ],
      "text/plain": [
       "     Iter #  train_roc_auc  test_roc_auc  train_recall  test_recall  \\\n",
       "84       85       0.999764      0.896027           1.0     0.538032   \n",
       "85       86       0.999764      0.896027           1.0     0.538032   \n",
       "86       87       0.999764      0.896027           1.0     0.538032   \n",
       "87       88       0.999764      0.896027           1.0     0.538032   \n",
       "183     184       0.999780      0.896345           1.0     0.539894   \n",
       "\n",
       "     train_neg_log_loss  test_neg_log_loss  train_f1   test_f1  \\\n",
       "84            -0.093582          -0.224847  0.877851  0.471230   \n",
       "85            -0.093582          -0.224847  0.877851  0.471230   \n",
       "86            -0.093582          -0.224847  0.877851  0.471230   \n",
       "87            -0.093582          -0.224847  0.877851  0.471230   \n",
       "183           -0.091333          -0.224562  0.878557  0.471022   \n",
       "\n",
       "     train_accuracy  test_accuracy   fit_time  score_time  colsample_bytree  \\\n",
       "84         0.976098       0.896479  21.823719   18.141407               0.7   \n",
       "85         0.976098       0.896479  21.437577   18.047170               0.7   \n",
       "86         0.976098       0.896479  21.742348   18.677173               0.7   \n",
       "87         0.976098       0.896479  21.120753   17.616878               0.7   \n",
       "183        0.976281       0.896022  22.578263   19.695053               0.8   \n",
       "\n",
       "     reg_lambda  reg_alpha  subsample  \n",
       "84          0.2        0.8        0.5  \n",
       "85          0.2        0.8        0.7  \n",
       "86          0.2        0.8        0.8  \n",
       "87          0.2        0.8        0.9  \n",
       "183         0.0        0.8        0.9  "
      ]
     },
     "execution_count": 24,
     "metadata": {},
     "output_type": "execute_result"
    }
   ],
   "source": [
    "grid_res.sort_values('test_f1', ascending=False).head()"
   ]
  },
  {
   "cell_type": "code",
   "execution_count": 25,
   "metadata": {},
   "outputs": [
    {
     "data": {
      "text/plain": [
       "{'colsample_bytree': 0.7,\n",
       " 'reg_alpha': 0.8,\n",
       " 'reg_lambda': 0.2,\n",
       " 'subsample': 0.5}"
      ]
     },
     "execution_count": 25,
     "metadata": {},
     "output_type": "execute_result"
    }
   ],
   "source": [
    "grid2.best_params_"
   ]
  },
  {
   "cell_type": "code",
   "execution_count": 68,
   "metadata": {},
   "outputs": [],
   "source": [
    "model_xgb = xgb.XGBClassifier(learning_rate=0.1, \n",
    "                          n_estimators=200, \n",
    "                          max_depth=4, \n",
    "                          min_child_weight=7, \n",
    "                          gamma=0.4,\n",
    "                          nthread=16, \n",
    "                          subsample=0.8,\n",
    "                          colsample_bytree=0.8,\n",
    "                          objective= 'binary:logistic',\n",
    "                          scale_pos_weight=3,\n",
    "                          seed=29)\n",
    "model_xgb.fit(X_train, y_train)\n",
    "y_xg = model_xgb.predict(X_test)"
   ]
  },
  {
   "cell_type": "code",
   "execution_count": 78,
   "metadata": {},
   "outputs": [
    {
     "name": "stdout",
     "output_type": "stream",
     "text": [
      "[[9832  222]\n",
      " [ 527  381]]\n",
      "Accuracy_score: 93.17% on test dataset\n",
      "precision_score: 63.18% on test dataset\n",
      "recall_score: 41.96% on test dataset\n",
      "f1_score: 50.43% on test dataset\n",
      "roc_auc test set 0.9123738420459038\n",
      "roc_auc training set 0.9415925009898929\n"
     ]
    }
   ],
   "source": [
    "print(confusion_matrix(y_test, y_xg))\n",
    "predictions = [value for value in y_xg]\n",
    "accuracy = accuracy_score(y_test, predictions)\n",
    "precision = precision_score(y_test, predictions)\n",
    "recall = recall_score(y_test, predictions)\n",
    "f1 = f1_score(y_test, predictions)\n",
    "print(\"Accuracy_score: %.2f%% on test dataset\" % (accuracy * 100.0))\n",
    "print(\"precision_score: %.2f%% on test dataset\" % (precision * 100.0))\n",
    "print(\"recall_score: %.2f%% on test dataset\" % (recall * 100.0))\n",
    "print(\"f1_score: %.2f%% on test dataset\" % (f1 * 100.0))\n",
    "print(\"roc_auc test set\", roc_auc_score(y_test, model_xgb.predict_proba(X_test)[:,1]))\n",
    "print(\"roc_auc training set\", roc_auc_score(y_train, model_xgb.predict_proba(X_train)[:,1]))"
   ]
  },
  {
   "cell_type": "code",
   "execution_count": 79,
   "metadata": {},
   "outputs": [
    {
     "data": {
      "text/plain": [
       "XGBClassifier(base_score=0.5, booster='gbtree', colsample_bylevel=1,\n",
       "       colsample_bytree=0.8, gamma=0.4, learning_rate=0.1,\n",
       "       max_delta_step=0, max_depth=4, min_child_weight=7, missing=None,\n",
       "       n_estimators=200, n_jobs=1, nthread=16, objective='binary:logistic',\n",
       "       random_state=0, reg_alpha=0, reg_lambda=1, scale_pos_weight=3,\n",
       "       seed=29, silent=True, subsample=0.8)"
      ]
     },
     "execution_count": 79,
     "metadata": {},
     "output_type": "execute_result"
    }
   ],
   "source": [
    "model_xgb.fit(X, y)\n",
    "# y_xg = model_xgb.predict(X_test)"
   ]
  },
  {
   "cell_type": "markdown",
   "metadata": {},
   "source": [
    "## Submission 2 "
   ]
  },
  {
   "cell_type": "code",
   "execution_count": 29,
   "metadata": {},
   "outputs": [],
   "source": [
    "dtest_eid = dtest.employee_id\n",
    "dtest.drop('employee_id', inplace=True, axis=1)"
   ]
  },
  {
   "cell_type": "code",
   "execution_count": 100,
   "metadata": {},
   "outputs": [],
   "source": [
    "y_valid = model_xgb.predict(dtest)\n",
    "submission = dtest.copy()\n",
    "submission['employee_id'] = dtest_eid\n",
    "submission['is_promoted'] = y_valid"
   ]
  },
  {
   "cell_type": "code",
   "execution_count": 103,
   "metadata": {},
   "outputs": [],
   "source": [
    "submission[['employee_id', 'is_promoted']].to_csv('./data/sub2.csv', index=False)"
   ]
  },
  {
   "cell_type": "markdown",
   "metadata": {},
   "source": [
    "## Leaderboard Score: 0.5220077220, Rank: 60"
   ]
  },
  {
   "cell_type": "code",
   "execution_count": 27,
   "metadata": {},
   "outputs": [],
   "source": [
    "lgbm_model = grid2.best_estimator_.fit(X, y)"
   ]
  },
  {
   "cell_type": "code",
   "execution_count": 31,
   "metadata": {},
   "outputs": [],
   "source": [
    "y_valid = lgbm_model.predict(dtest)\n",
    "submission = dtest.copy()\n",
    "submission['employee_id'] = dtest_eid\n",
    "submission['is_promoted'] = y_valid"
   ]
  },
  {
   "cell_type": "code",
   "execution_count": 32,
   "metadata": {},
   "outputs": [],
   "source": [
    "submission[['employee_id', 'is_promoted']].to_csv('./data/sub3.csv', index=False)"
   ]
  },
  {
   "cell_type": "code",
   "execution_count": null,
   "metadata": {},
   "outputs": [],
   "source": []
  }
 ],
 "metadata": {
  "kernelspec": {
   "display_name": "Python 3",
   "language": "python",
   "name": "python3"
  },
  "language_info": {
   "codemirror_mode": {
    "name": "ipython",
    "version": 3
   },
   "file_extension": ".py",
   "mimetype": "text/x-python",
   "name": "python",
   "nbconvert_exporter": "python",
   "pygments_lexer": "ipython3",
   "version": "3.5.2"
  }
 },
 "nbformat": 4,
 "nbformat_minor": 2
}
